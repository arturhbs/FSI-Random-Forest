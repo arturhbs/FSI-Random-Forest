{
 "cells": [
  {
   "cell_type": "markdown",
   "metadata": {},
   "source": [
    "# Modelos Multiplos Preditivos - Cap. 8\n",
    "## 0 - Bibliotecas importadas"
   ]
  },
  {
   "cell_type": "code",
   "execution_count": 168,
   "metadata": {},
   "outputs": [],
   "source": [
    "import pandas as pd\n",
    "import numpy as np"
   ]
  },
  {
   "cell_type": "markdown",
   "metadata": {},
   "source": [
    "## 1 - Carregando dataset 'Wine Quality'\n",
    "* Dados numéricos;\n",
    "* Não houve necessidade de fazer tratamento quanto a falta ou inconsistência nos dados;\n",
    "* 11 características e target sendo sobre a qualidade do vinho (0-qualidade ruim- até 10-Excelente qualidade-);\n",
    "* Não está balanceado (há mais vinhos normais do que excelentes ou ruins);\n",
    "\n"
   ]
  },
  {
   "cell_type": "markdown",
   "metadata": {},
   "source": [
    "\n",
    "\n",
    "\n",
    "|nº| Atributo            | SI | Observação |\n",
    "|---|---------------------|----|------------|\n",
    "|01.| __Acidez fixa:__ | (g/dm³)| Formado pela acidez orgânica da uva (tartático) e da fermentação alcoólica.| \n",
    "|02.| __Acidez volátil:__ | (g/dm³) | Produzidos pelas reações químicas durante a maturação do vinho (Ácido Acético). A acidez volátil é um indicador da qualidade do vinho.| \n",
    "|03.| __Ácido cítrico:__ | (g/dm³) | Um dos ácidos orgânicos da uva.| \n",
    "|04.| __Açúcar residual:__ | (g/dm³)  | - | \n",
    "|05.| __Cloretos:__ | (g/dm³) | Cloreto de sódio | \n",
    "|06.| __Dióxido de enxofre livre:__  | (mg/dm³) | - | \n",
    "|07.| __Dióxido de enxofre total:__  | (mg/dm³) | - | \n",
    "|08.| __Densidade:__  | (g/cm³) | - | \n",
    "|09.| __pH:__ | [0,14] | - | \n",
    "|10.| __Sulfatos:__ | (g/dm³) | Sulfato de potássio | \n",
    "|11.| __Álcool:__ | - | - | \n",
    "|12.| __Qualidade:__ | (vol.%) | - |\n",
    "\n",
    "\n",
    "\n",
    "\n",
    "\n"
   ]
  },
  {
   "cell_type": "markdown",
   "metadata": {},
   "source": [
    "### Vinho Branco"
   ]
  },
  {
   "cell_type": "code",
   "execution_count": 169,
   "metadata": {},
   "outputs": [
    {
     "name": "stdout",
     "output_type": "stream",
     "text": [
      "Quantidade amostra =  4898\n"
     ]
    },
    {
     "data": {
      "text/html": [
       "<div>\n",
       "<style scoped>\n",
       "    .dataframe tbody tr th:only-of-type {\n",
       "        vertical-align: middle;\n",
       "    }\n",
       "\n",
       "    .dataframe tbody tr th {\n",
       "        vertical-align: top;\n",
       "    }\n",
       "\n",
       "    .dataframe thead th {\n",
       "        text-align: right;\n",
       "    }\n",
       "</style>\n",
       "<table border=\"1\" class=\"dataframe\">\n",
       "  <thead>\n",
       "    <tr style=\"text-align: right;\">\n",
       "      <th></th>\n",
       "      <th>fixed acidity</th>\n",
       "      <th>volatile acidity</th>\n",
       "      <th>citric acid</th>\n",
       "      <th>residual sugar</th>\n",
       "      <th>chlorides</th>\n",
       "      <th>free sulfur dioxide</th>\n",
       "      <th>total sulfur dioxide</th>\n",
       "      <th>density</th>\n",
       "      <th>pH</th>\n",
       "      <th>sulphates</th>\n",
       "      <th>alcohol</th>\n",
       "      <th>quality</th>\n",
       "    </tr>\n",
       "  </thead>\n",
       "  <tbody>\n",
       "    <tr>\n",
       "      <th>0</th>\n",
       "      <td>7.00</td>\n",
       "      <td>0.27</td>\n",
       "      <td>0.36</td>\n",
       "      <td>20.70</td>\n",
       "      <td>0.04</td>\n",
       "      <td>45.00</td>\n",
       "      <td>170.00</td>\n",
       "      <td>1.00</td>\n",
       "      <td>3.00</td>\n",
       "      <td>0.45</td>\n",
       "      <td>8.80</td>\n",
       "      <td>6</td>\n",
       "    </tr>\n",
       "  </tbody>\n",
       "</table>\n",
       "</div>"
      ],
      "text/plain": [
       "   fixed acidity  volatile acidity  citric acid  residual sugar  chlorides  \\\n",
       "0           7.00              0.27         0.36           20.70       0.04   \n",
       "\n",
       "   free sulfur dioxide  total sulfur dioxide  density   pH  sulphates  \\\n",
       "0                45.00                170.00     1.00 3.00       0.45   \n",
       "\n",
       "   alcohol  quality  \n",
       "0     8.80        6  "
      ]
     },
     "execution_count": 169,
     "metadata": {},
     "output_type": "execute_result"
    }
   ],
   "source": [
    "df_white = pd.read_csv('./winequality-white.csv', sep = ';')\n",
    "print(\"Quantidade amostra = \",df_white['quality'].count())\n",
    "df_white.head(n=1)\n"
   ]
  },
  {
   "cell_type": "code",
   "execution_count": 170,
   "metadata": {},
   "outputs": [
    {
     "data": {
      "text/html": [
       "<div>\n",
       "<style scoped>\n",
       "    .dataframe tbody tr th:only-of-type {\n",
       "        vertical-align: middle;\n",
       "    }\n",
       "\n",
       "    .dataframe tbody tr th {\n",
       "        vertical-align: top;\n",
       "    }\n",
       "\n",
       "    .dataframe thead th {\n",
       "        text-align: right;\n",
       "    }\n",
       "</style>\n",
       "<table border=\"1\" class=\"dataframe\">\n",
       "  <thead>\n",
       "    <tr style=\"text-align: right;\">\n",
       "      <th></th>\n",
       "      <th>fixed acidity</th>\n",
       "      <th>volatile acidity</th>\n",
       "      <th>citric acid</th>\n",
       "      <th>residual sugar</th>\n",
       "      <th>chlorides</th>\n",
       "      <th>free sulfur dioxide</th>\n",
       "      <th>total sulfur dioxide</th>\n",
       "      <th>density</th>\n",
       "      <th>pH</th>\n",
       "      <th>sulphates</th>\n",
       "      <th>alcohol</th>\n",
       "      <th>quality</th>\n",
       "    </tr>\n",
       "  </thead>\n",
       "  <tbody>\n",
       "    <tr>\n",
       "      <th>count</th>\n",
       "      <td>4898.00</td>\n",
       "      <td>4898.00</td>\n",
       "      <td>4898.00</td>\n",
       "      <td>4898.00</td>\n",
       "      <td>4898.00</td>\n",
       "      <td>4898.00</td>\n",
       "      <td>4898.00</td>\n",
       "      <td>4898.00</td>\n",
       "      <td>4898.00</td>\n",
       "      <td>4898.00</td>\n",
       "      <td>4898.00</td>\n",
       "      <td>4898.00</td>\n",
       "    </tr>\n",
       "    <tr>\n",
       "      <th>mean</th>\n",
       "      <td>6.85</td>\n",
       "      <td>0.28</td>\n",
       "      <td>0.33</td>\n",
       "      <td>6.39</td>\n",
       "      <td>0.05</td>\n",
       "      <td>35.31</td>\n",
       "      <td>138.36</td>\n",
       "      <td>0.99</td>\n",
       "      <td>3.19</td>\n",
       "      <td>0.49</td>\n",
       "      <td>10.51</td>\n",
       "      <td>5.88</td>\n",
       "    </tr>\n",
       "    <tr>\n",
       "      <th>std</th>\n",
       "      <td>0.84</td>\n",
       "      <td>0.10</td>\n",
       "      <td>0.12</td>\n",
       "      <td>5.07</td>\n",
       "      <td>0.02</td>\n",
       "      <td>17.01</td>\n",
       "      <td>42.50</td>\n",
       "      <td>0.00</td>\n",
       "      <td>0.15</td>\n",
       "      <td>0.11</td>\n",
       "      <td>1.23</td>\n",
       "      <td>0.89</td>\n",
       "    </tr>\n",
       "    <tr>\n",
       "      <th>min</th>\n",
       "      <td>3.80</td>\n",
       "      <td>0.08</td>\n",
       "      <td>0.00</td>\n",
       "      <td>0.60</td>\n",
       "      <td>0.01</td>\n",
       "      <td>2.00</td>\n",
       "      <td>9.00</td>\n",
       "      <td>0.99</td>\n",
       "      <td>2.72</td>\n",
       "      <td>0.22</td>\n",
       "      <td>8.00</td>\n",
       "      <td>3.00</td>\n",
       "    </tr>\n",
       "    <tr>\n",
       "      <th>50%</th>\n",
       "      <td>6.80</td>\n",
       "      <td>0.26</td>\n",
       "      <td>0.32</td>\n",
       "      <td>5.20</td>\n",
       "      <td>0.04</td>\n",
       "      <td>34.00</td>\n",
       "      <td>134.00</td>\n",
       "      <td>0.99</td>\n",
       "      <td>3.18</td>\n",
       "      <td>0.47</td>\n",
       "      <td>10.40</td>\n",
       "      <td>6.00</td>\n",
       "    </tr>\n",
       "    <tr>\n",
       "      <th>max</th>\n",
       "      <td>14.20</td>\n",
       "      <td>1.10</td>\n",
       "      <td>1.66</td>\n",
       "      <td>65.80</td>\n",
       "      <td>0.35</td>\n",
       "      <td>289.00</td>\n",
       "      <td>440.00</td>\n",
       "      <td>1.04</td>\n",
       "      <td>3.82</td>\n",
       "      <td>1.08</td>\n",
       "      <td>14.20</td>\n",
       "      <td>9.00</td>\n",
       "    </tr>\n",
       "  </tbody>\n",
       "</table>\n",
       "</div>"
      ],
      "text/plain": [
       "       fixed acidity  volatile acidity  citric acid  residual sugar  \\\n",
       "count        4898.00           4898.00      4898.00         4898.00   \n",
       "mean            6.85              0.28         0.33            6.39   \n",
       "std             0.84              0.10         0.12            5.07   \n",
       "min             3.80              0.08         0.00            0.60   \n",
       "50%             6.80              0.26         0.32            5.20   \n",
       "max            14.20              1.10         1.66           65.80   \n",
       "\n",
       "       chlorides  free sulfur dioxide  total sulfur dioxide  density      pH  \\\n",
       "count    4898.00              4898.00               4898.00  4898.00 4898.00   \n",
       "mean        0.05                35.31                138.36     0.99    3.19   \n",
       "std         0.02                17.01                 42.50     0.00    0.15   \n",
       "min         0.01                 2.00                  9.00     0.99    2.72   \n",
       "50%         0.04                34.00                134.00     0.99    3.18   \n",
       "max         0.35               289.00                440.00     1.04    3.82   \n",
       "\n",
       "       sulphates  alcohol  quality  \n",
       "count    4898.00  4898.00  4898.00  \n",
       "mean        0.49    10.51     5.88  \n",
       "std         0.11     1.23     0.89  \n",
       "min         0.22     8.00     3.00  \n",
       "50%         0.47    10.40     6.00  \n",
       "max         1.08    14.20     9.00  "
      ]
     },
     "execution_count": 170,
     "metadata": {},
     "output_type": "execute_result"
    }
   ],
   "source": [
    "pd.options.display.float_format = \"{:.2f}\".format\n",
    "df_white.describe(percentiles=[])"
   ]
  },
  {
   "cell_type": "code",
   "execution_count": 171,
   "metadata": {},
   "outputs": [
    {
     "data": {
      "text/plain": [
       "Text(0, 0.5, 'Frequência')"
      ]
     },
     "execution_count": 171,
     "metadata": {},
     "output_type": "execute_result"
    },
    {
     "data": {
      "image/png": "[encoded data removed]",
      "text/plain": [
       "<Figure size 1008x576 with 1 Axes>"
      ]
     },
     "metadata": {
      "needs_background": "light"
     },
     "output_type": "display_data"
    }
   ],
   "source": [
    "ax = df_white['quality'].value_counts().sort_index().plot.bar(\n",
    "                                    y = [1,2,3,4,5,6,7,8,9,10,11],\n",
    "                                    figsize=(14,8),\n",
    "                                    title=\"Quantidade de vinhos por qualidade\"\n",
    "                                    )\n",
    "ax.set_xlabel(\"Qualidade\")\n",
    "ax.set_ylabel(\"Frequência\")"
   ]
  },
  {
   "cell_type": "markdown",
   "metadata": {},
   "source": [
    "## 2 - Pré-Processamento"
   ]
  },
  {
   "cell_type": "code",
   "execution_count": 172,
   "metadata": {},
   "outputs": [],
   "source": [
    "from sklearn import preprocessing\n",
    "from sklearn.preprocessing import StandardScaler"
   ]
  },
  {
   "cell_type": "markdown",
   "metadata": {},
   "source": [
    "### Agrupando Classes - 2 Classes"
   ]
  },
  {
   "cell_type": "code",
   "execution_count": 173,
   "metadata": {},
   "outputs": [],
   "source": [
    "classes_2 = []\n",
    "for i in df_white['quality']:\n",
    "    if i >= 0 and i <= 5:\n",
    "        classes_2.append('1')\n",
    "    elif i >= 6 and i <= 10:\n",
    "        classes_2.append('2')\n",
    "df_white['classes_2'] = classes_2  "
   ]
  },
  {
   "cell_type": "markdown",
   "metadata": {},
   "source": [
    "### Agrupando Classes - 3 Classes"
   ]
  },
  {
   "cell_type": "code",
   "execution_count": 174,
   "metadata": {},
   "outputs": [
    {
     "data": {
      "text/html": [
       "<div>\n",
       "<style scoped>\n",
       "    .dataframe tbody tr th:only-of-type {\n",
       "        vertical-align: middle;\n",
       "    }\n",
       "\n",
       "    .dataframe tbody tr th {\n",
       "        vertical-align: top;\n",
       "    }\n",
       "\n",
       "    .dataframe thead th {\n",
       "        text-align: right;\n",
       "    }\n",
       "</style>\n",
       "<table border=\"1\" class=\"dataframe\">\n",
       "  <thead>\n",
       "    <tr style=\"text-align: right;\">\n",
       "      <th></th>\n",
       "      <th>fixed acidity</th>\n",
       "      <th>volatile acidity</th>\n",
       "      <th>citric acid</th>\n",
       "      <th>residual sugar</th>\n",
       "      <th>chlorides</th>\n",
       "      <th>free sulfur dioxide</th>\n",
       "      <th>total sulfur dioxide</th>\n",
       "      <th>density</th>\n",
       "      <th>pH</th>\n",
       "      <th>sulphates</th>\n",
       "      <th>alcohol</th>\n",
       "      <th>quality</th>\n",
       "      <th>classes_2</th>\n",
       "      <th>classes_3</th>\n",
       "    </tr>\n",
       "  </thead>\n",
       "  <tbody>\n",
       "    <tr>\n",
       "      <th>0</th>\n",
       "      <td>7.00</td>\n",
       "      <td>0.27</td>\n",
       "      <td>0.36</td>\n",
       "      <td>20.70</td>\n",
       "      <td>0.04</td>\n",
       "      <td>45.00</td>\n",
       "      <td>170.00</td>\n",
       "      <td>1.00</td>\n",
       "      <td>3.00</td>\n",
       "      <td>0.45</td>\n",
       "      <td>8.80</td>\n",
       "      <td>6</td>\n",
       "      <td>2</td>\n",
       "      <td>2</td>\n",
       "    </tr>\n",
       "    <tr>\n",
       "      <th>1</th>\n",
       "      <td>6.30</td>\n",
       "      <td>0.30</td>\n",
       "      <td>0.34</td>\n",
       "      <td>1.60</td>\n",
       "      <td>0.05</td>\n",
       "      <td>14.00</td>\n",
       "      <td>132.00</td>\n",
       "      <td>0.99</td>\n",
       "      <td>3.30</td>\n",
       "      <td>0.49</td>\n",
       "      <td>9.50</td>\n",
       "      <td>6</td>\n",
       "      <td>2</td>\n",
       "      <td>2</td>\n",
       "    </tr>\n",
       "    <tr>\n",
       "      <th>2</th>\n",
       "      <td>8.10</td>\n",
       "      <td>0.28</td>\n",
       "      <td>0.40</td>\n",
       "      <td>6.90</td>\n",
       "      <td>0.05</td>\n",
       "      <td>30.00</td>\n",
       "      <td>97.00</td>\n",
       "      <td>1.00</td>\n",
       "      <td>3.26</td>\n",
       "      <td>0.44</td>\n",
       "      <td>10.10</td>\n",
       "      <td>6</td>\n",
       "      <td>2</td>\n",
       "      <td>2</td>\n",
       "    </tr>\n",
       "    <tr>\n",
       "      <th>3</th>\n",
       "      <td>7.20</td>\n",
       "      <td>0.23</td>\n",
       "      <td>0.32</td>\n",
       "      <td>8.50</td>\n",
       "      <td>0.06</td>\n",
       "      <td>47.00</td>\n",
       "      <td>186.00</td>\n",
       "      <td>1.00</td>\n",
       "      <td>3.19</td>\n",
       "      <td>0.40</td>\n",
       "      <td>9.90</td>\n",
       "      <td>6</td>\n",
       "      <td>2</td>\n",
       "      <td>2</td>\n",
       "    </tr>\n",
       "    <tr>\n",
       "      <th>4</th>\n",
       "      <td>7.20</td>\n",
       "      <td>0.23</td>\n",
       "      <td>0.32</td>\n",
       "      <td>8.50</td>\n",
       "      <td>0.06</td>\n",
       "      <td>47.00</td>\n",
       "      <td>186.00</td>\n",
       "      <td>1.00</td>\n",
       "      <td>3.19</td>\n",
       "      <td>0.40</td>\n",
       "      <td>9.90</td>\n",
       "      <td>6</td>\n",
       "      <td>2</td>\n",
       "      <td>2</td>\n",
       "    </tr>\n",
       "    <tr>\n",
       "      <th>...</th>\n",
       "      <td>...</td>\n",
       "      <td>...</td>\n",
       "      <td>...</td>\n",
       "      <td>...</td>\n",
       "      <td>...</td>\n",
       "      <td>...</td>\n",
       "      <td>...</td>\n",
       "      <td>...</td>\n",
       "      <td>...</td>\n",
       "      <td>...</td>\n",
       "      <td>...</td>\n",
       "      <td>...</td>\n",
       "      <td>...</td>\n",
       "      <td>...</td>\n",
       "    </tr>\n",
       "    <tr>\n",
       "      <th>4893</th>\n",
       "      <td>6.20</td>\n",
       "      <td>0.21</td>\n",
       "      <td>0.29</td>\n",
       "      <td>1.60</td>\n",
       "      <td>0.04</td>\n",
       "      <td>24.00</td>\n",
       "      <td>92.00</td>\n",
       "      <td>0.99</td>\n",
       "      <td>3.27</td>\n",
       "      <td>0.50</td>\n",
       "      <td>11.20</td>\n",
       "      <td>6</td>\n",
       "      <td>2</td>\n",
       "      <td>2</td>\n",
       "    </tr>\n",
       "    <tr>\n",
       "      <th>4894</th>\n",
       "      <td>6.60</td>\n",
       "      <td>0.32</td>\n",
       "      <td>0.36</td>\n",
       "      <td>8.00</td>\n",
       "      <td>0.05</td>\n",
       "      <td>57.00</td>\n",
       "      <td>168.00</td>\n",
       "      <td>0.99</td>\n",
       "      <td>3.15</td>\n",
       "      <td>0.46</td>\n",
       "      <td>9.60</td>\n",
       "      <td>5</td>\n",
       "      <td>1</td>\n",
       "      <td>2</td>\n",
       "    </tr>\n",
       "    <tr>\n",
       "      <th>4895</th>\n",
       "      <td>6.50</td>\n",
       "      <td>0.24</td>\n",
       "      <td>0.19</td>\n",
       "      <td>1.20</td>\n",
       "      <td>0.04</td>\n",
       "      <td>30.00</td>\n",
       "      <td>111.00</td>\n",
       "      <td>0.99</td>\n",
       "      <td>2.99</td>\n",
       "      <td>0.46</td>\n",
       "      <td>9.40</td>\n",
       "      <td>6</td>\n",
       "      <td>2</td>\n",
       "      <td>2</td>\n",
       "    </tr>\n",
       "    <tr>\n",
       "      <th>4896</th>\n",
       "      <td>5.50</td>\n",
       "      <td>0.29</td>\n",
       "      <td>0.30</td>\n",
       "      <td>1.10</td>\n",
       "      <td>0.02</td>\n",
       "      <td>20.00</td>\n",
       "      <td>110.00</td>\n",
       "      <td>0.99</td>\n",
       "      <td>3.34</td>\n",
       "      <td>0.38</td>\n",
       "      <td>12.80</td>\n",
       "      <td>7</td>\n",
       "      <td>2</td>\n",
       "      <td>3</td>\n",
       "    </tr>\n",
       "    <tr>\n",
       "      <th>4897</th>\n",
       "      <td>6.00</td>\n",
       "      <td>0.21</td>\n",
       "      <td>0.38</td>\n",
       "      <td>0.80</td>\n",
       "      <td>0.02</td>\n",
       "      <td>22.00</td>\n",
       "      <td>98.00</td>\n",
       "      <td>0.99</td>\n",
       "      <td>3.26</td>\n",
       "      <td>0.32</td>\n",
       "      <td>11.80</td>\n",
       "      <td>6</td>\n",
       "      <td>2</td>\n",
       "      <td>2</td>\n",
       "    </tr>\n",
       "  </tbody>\n",
       "</table>\n",
       "<p>4898 rows × 14 columns</p>\n",
       "</div>"
      ],
      "text/plain": [
       "      fixed acidity  volatile acidity  citric acid  residual sugar  chlorides  \\\n",
       "0              7.00              0.27         0.36           20.70       0.04   \n",
       "1              6.30              0.30         0.34            1.60       0.05   \n",
       "2              8.10              0.28         0.40            6.90       0.05   \n",
       "3              7.20              0.23         0.32            8.50       0.06   \n",
       "4              7.20              0.23         0.32            8.50       0.06   \n",
       "...             ...               ...          ...             ...        ...   \n",
       "4893           6.20              0.21         0.29            1.60       0.04   \n",
       "4894           6.60              0.32         0.36            8.00       0.05   \n",
       "4895           6.50              0.24         0.19            1.20       0.04   \n",
       "4896           5.50              0.29         0.30            1.10       0.02   \n",
       "4897           6.00              0.21         0.38            0.80       0.02   \n",
       "\n",
       "      free sulfur dioxide  total sulfur dioxide  density   pH  sulphates  \\\n",
       "0                   45.00                170.00     1.00 3.00       0.45   \n",
       "1                   14.00                132.00     0.99 3.30       0.49   \n",
       "2                   30.00                 97.00     1.00 3.26       0.44   \n",
       "3                   47.00                186.00     1.00 3.19       0.40   \n",
       "4                   47.00                186.00     1.00 3.19       0.40   \n",
       "...                   ...                   ...      ...  ...        ...   \n",
       "4893                24.00                 92.00     0.99 3.27       0.50   \n",
       "4894                57.00                168.00     0.99 3.15       0.46   \n",
       "4895                30.00                111.00     0.99 2.99       0.46   \n",
       "4896                20.00                110.00     0.99 3.34       0.38   \n",
       "4897                22.00                 98.00     0.99 3.26       0.32   \n",
       "\n",
       "      alcohol  quality classes_2 classes_3  \n",
       "0        8.80        6         2         2  \n",
       "1        9.50        6         2         2  \n",
       "2       10.10        6         2         2  \n",
       "3        9.90        6         2         2  \n",
       "4        9.90        6         2         2  \n",
       "...       ...      ...       ...       ...  \n",
       "4893    11.20        6         2         2  \n",
       "4894     9.60        5         1         2  \n",
       "4895     9.40        6         2         2  \n",
       "4896    12.80        7         2         3  \n",
       "4897    11.80        6         2         2  \n",
       "\n",
       "[4898 rows x 14 columns]"
      ]
     },
     "execution_count": 174,
     "metadata": {},
     "output_type": "execute_result"
    }
   ],
   "source": [
    "classes_3 = []\n",
    "for i in df_white['quality']:\n",
    "    if i >= 0 and i <= 3:\n",
    "        classes_3.append('1')\n",
    "    elif i >= 4 and i <= 6:\n",
    "        classes_3.append('2')\n",
    "    elif i >= 7 and i <= 10:\n",
    "        classes_3.append('3')\n",
    "df_white['classes_3'] = classes_3  \n",
    "df_white"
   ]
  },
  {
   "cell_type": "markdown",
   "metadata": {},
   "source": [
    "### StandardScale\n",
    "> class sklearn.preprocessing.StandardScaler(**copy**=True, **with_mean**=True, **with_std**=True)"
   ]
  },
  {
   "cell_type": "code",
   "execution_count": 175,
   "metadata": {},
   "outputs": [
    {
     "data": {
      "text/plain": [
       "array([[-0.21894148],\n",
       "       [-0.39908096],\n",
       "       [-0.39667196],\n",
       "       ...,\n",
       "       [-0.24570812],\n",
       "       [-0.35277467],\n",
       "       [-0.35277467]])"
      ]
     },
     "execution_count": 175,
     "metadata": {},
     "output_type": "execute_result"
    }
   ],
   "source": [
    "# X = df_white.iloc[:,:11]\n",
    "# y = df_white['quality']\n",
    "# ss = StandardScaler()\n",
    "# X = ss.fit_transform(X)\n",
    "# X\n"
   ]
  },
  {
   "cell_type": "markdown",
   "metadata": {},
   "source": [
    "## 3 - Treinamento"
   ]
  },
  {
   "cell_type": "code",
   "execution_count": 176,
   "metadata": {},
   "outputs": [],
   "source": [
    "from sklearn.model_selection import train_test_split"
   ]
  },
  {
   "cell_type": "code",
   "execution_count": 177,
   "metadata": {},
   "outputs": [],
   "source": [
    "# Normalmente, em python, o X tem relação com o dataframe gerado e o 'y' com os valores em target\n",
    "X = df_white.iloc[:,:11]\n",
    "y = df_white['quality']\n",
    "\n",
    "X_train, X_test, y_train, y_test = train_test_split(X, y, train_size = 0.75, random_state=1)"
   ]
  },
  {
   "cell_type": "markdown",
   "metadata": {},
   "source": [
    "### Bagging\n",
    ">class sklearn.ensemble.BaggingClassifier(**base_estimator**=None, **n_estimators**=10, **max_samples**=1.0, **max_features**=1.0, **bootstrap**=True, **bootstrap_features**=False, **oob_score**=False, **warm_start**=False, **n_jobs**=None, **random_state**=None, **verbose**=0)"
   ]
  },
  {
   "cell_type": "code",
   "execution_count": 178,
   "metadata": {},
   "outputs": [],
   "source": [
    "from sklearn.ensemble import BaggingClassifier\n",
    "k_range = [10,20,30,40,50,60,70,80,90, 100]\n",
    "bc_list_predict = []\n",
    "for k in k_range:\n",
    "        \n",
    "    bc = BaggingClassifier( n_estimators = k,\n",
    "                            random_state = 1\n",
    "                          )\n",
    "    bc.fit(X_train,y_train)\n",
    "    bc_list_predict.append(bc.predict(X_test))"
   ]
  },
  {
   "cell_type": "markdown",
   "metadata": {},
   "source": [
    "### Decision Tree\n",
    "> class sklearn.tree.DecisionTreeClassifier(**criterion**='gini', **splitter**='best', **max_depth**=None, **min_samples_split**=2, **min_samples_leaf**=1, **min_weight_fraction_leaf**=0.0, **max_features**=None, **random_state**=None, **max_leaf_nodes**=None, **min_impurity_decrease**=0.0, **min_impurity_split**=None, **class_weight**=None, **presort**='deprecated', **ccp_alpha**=0.0)"
   ]
  },
  {
   "cell_type": "code",
   "execution_count": 179,
   "metadata": {},
   "outputs": [],
   "source": [
    "from sklearn.tree import DecisionTreeClassifier\n",
    "k_range = [None,2,3,4,5,6,7,8,9,10]\n",
    "dtc_list_predict = []\n",
    "for k in k_range :\n",
    "    dtc = DecisionTreeClassifier(max_depth = k,\n",
    "                                random_state = 1 )\n",
    "    dtc.fit(X_train,y_train)\n",
    "    dtc_list_predict.append(dtc.predict(X_test))"
   ]
  },
  {
   "cell_type": "markdown",
   "metadata": {},
   "source": [
    "### Random Forest\n",
    "> class sklearn.ensemble.RandomForestClassifier(**n_estimators**=100, **criterion**='gini', **max_depth**=None, **min_samples_split**=2, **min_samples_leaf**=1, **min_weight_fraction_leaf**=0.0, **max_features**='auto', **max_leaf_nodes**=None, **min_impurity_decrease**=0.0, **min_impurity_split**=None, **bootstrap**=True, **oob_score**=False, **n_jobs**=None, **random_state**=None, **verbose**=0, **warm_start**=False, **class_weight**=None, **ccp_alpha**=0.0, **max_samples**=None)\n"
   ]
  },
  {
   "cell_type": "code",
   "execution_count": 180,
   "metadata": {},
   "outputs": [],
   "source": [
    "from sklearn.ensemble import RandomForestClassifier\n",
    "k_range = [100,200,300,400,500,600,700,800,900,1000]\n",
    "rfc_list_predict = []\n",
    "for k in k_range:\n",
    "    rfc = RandomForestClassifier(n_estimators= k,\n",
    "                                  n_jobs = -1, \n",
    "                                  random_state = 1  )\n",
    "    rfc.fit(X_train,y_train)\n",
    "    rfc_list_predict.append(rfc.predict(X_test))"
   ]
  },
  {
   "cell_type": "markdown",
   "metadata": {},
   "source": [
    "## 4 - Avaliação"
   ]
  },
  {
   "cell_type": "code",
   "execution_count": 181,
   "metadata": {},
   "outputs": [],
   "source": [
    "from sklearn.metrics import accuracy_score, confusion_matrix, precision_score, recall_score,f1_score\n",
    "metrics = [[[],[],[],[]], [[],[],[],[]], [[],[],[],[]]]"
   ]
  },
  {
   "cell_type": "markdown",
   "metadata": {},
   "source": [
    "### Bagging"
   ]
  },
  {
   "cell_type": "code",
   "execution_count": 182,
   "metadata": {
    "scrolled": true
   },
   "outputs": [],
   "source": [
    "for i in range(0,len(bc_list_predict)):\n",
    "    metrics[0][0].append(accuracy_score(y_test, bc_list_predict[i]))\n",
    "    metrics[0][1].append(precision_score(y_test, bc_list_predict[i], average = \"weighted\", zero_division = 1))\n",
    "    metrics[0][2].append(recall_score(y_test, bc_list_predict[i], average = \"weighted\", zero_division = 1))\n",
    "    metrics[0][3].append(f1_score(y_test, bc_list_predict[i], average = \"weighted\", zero_division = 1))\n"
   ]
  },
  {
   "cell_type": "markdown",
   "metadata": {},
   "source": [
    "### Decision Tree"
   ]
  },
  {
   "cell_type": "code",
   "execution_count": 183,
   "metadata": {},
   "outputs": [],
   "source": [
    "for i in range(0,len(dtc_list_predict)):\n",
    "    metrics[1][0].append(accuracy_score(y_test, dtc_list_predict[i]))\n",
    "    metrics[1][1].append(precision_score(y_test, dtc_list_predict[i], average = \"weighted\", zero_division = 1))\n",
    "    metrics[1][2].append(recall_score(y_test, dtc_list_predict[i], average = \"weighted\", zero_division = 1))\n",
    "    metrics[1][3].append(f1_score(y_test, dtc_list_predict[i], average = \"weighted\", zero_division = 1))\n"
   ]
  },
  {
   "cell_type": "markdown",
   "metadata": {},
   "source": [
    "### Random Forest"
   ]
  },
  {
   "cell_type": "code",
   "execution_count": 184,
   "metadata": {},
   "outputs": [],
   "source": [
    "for i in range(0,len(rfc_list_predict)):\n",
    "    metrics[2][0].append(accuracy_score(y_test, rfc_list_predict[i]))\n",
    "    metrics[2][1].append(precision_score(y_test, rfc_list_predict[i], average = \"weighted\", zero_division = 1))\n",
    "    metrics[2][2].append(recall_score(y_test, rfc_list_predict[i], average = \"weighted\", zero_division = 1))\n",
    "    metrics[2][3].append(f1_score(y_test, rfc_list_predict[i], average = \"weighted\", zero_division = 1))\n",
    "\n"
   ]
  },
  {
   "cell_type": "markdown",
   "metadata": {},
   "source": [
    "### Plot"
   ]
  },
  {
   "cell_type": "code",
   "execution_count": 187,
   "metadata": {},
   "outputs": [
    {
     "name": "stdout",
     "output_type": "stream",
     "text": [
      "2\n",
      "0\n"
     ]
    }
   ],
   "source": [
    "import matplotlib.pyplot as plt \n",
    "labels = [\"Bagging\", \"Decision Tree\", \"Random Forest\"]\n",
    "print(y_test.tolist().count(3))\n",
    "print(y_test.tolist().count(9))\n",
    "max_metrics = [[0, 0, 0, 0], [0, 0, 0, 0], [0, 0, 0, 0]]\n",
    "min_metrics = [[0, 0, 0, 0], [0, 0, 0, 0], [0, 0, 0, 0]]"
   ]
  },
  {
   "cell_type": "code",
   "execution_count": 188,
   "metadata": {},
   "outputs": [
    {
     "name": "stdout",
     "output_type": "stream",
     "text": [
      "Matriz de confusão do Bagging com a(o) maior(o)  Acurácia\n",
      "[[  0   0   1   1   0   0]\n",
      " [  0   6  21  10   0   0]\n",
      " [  0   5 241 120   2   0]\n",
      " [  0   0  71 446  27   0]\n",
      " [  0   0   5  98 129   1]\n",
      " [  0   0   1  14  12  14]]\n",
      "Matriz de confusão do Bagging com a(o) menor(o)  Acurácia\n",
      "[[  0   0   1   1   0   0]\n",
      " [  0   5  21  11   0   0]\n",
      " [  0   4 245 115   3   1]\n",
      " [  0   0  78 434  32   0]\n",
      " [  0   0   5  98 128   2]\n",
      " [  0   0   1  14  13  13]]\n",
      "Matriz de confusão do Bagging com a(o) maior(o)  Precisão\n",
      "[[  0   0   1   1   0   0]\n",
      " [  0   6  21  10   0   0]\n",
      " [  0   5 241 120   2   0]\n",
      " [  0   0  71 446  27   0]\n",
      " [  0   0   5  98 129   1]\n",
      " [  0   0   1  14  12  14]]\n",
      "Matriz de confusão do Bagging com a(o) menor(o)  Precisão\n",
      "[[  0   0   1   1   0   0]\n",
      " [  0   5  21  11   0   0]\n",
      " [  0   4 245 115   3   1]\n",
      " [  0   0  78 434  32   0]\n",
      " [  0   0   5  98 128   2]\n",
      " [  0   0   1  14  13  13]]\n",
      "Matriz de confusão do Bagging com a(o) maior(o)  Recall\n",
      "[[  0   0   1   1   0   0]\n",
      " [  0   6  21  10   0   0]\n",
      " [  0   5 241 120   2   0]\n",
      " [  0   0  71 446  27   0]\n",
      " [  0   0   5  98 129   1]\n",
      " [  0   0   1  14  12  14]]\n",
      "Matriz de confusão do Bagging com a(o) menor(o)  Recall\n",
      "[[  0   0   1   1   0   0]\n",
      " [  0   5  21  11   0   0]\n",
      " [  0   4 245 115   3   1]\n",
      " [  0   0  78 434  32   0]\n",
      " [  0   0   5  98 128   2]\n",
      " [  0   0   1  14  13  13]]\n",
      "Matriz de confusão do Bagging com a(o) maior(o)  F1\n",
      "[[  0   0   1   1   0   0]\n",
      " [  0   6  21  10   0   0]\n",
      " [  0   4 240 123   1   0]\n",
      " [  0   0  68 448  28   0]\n",
      " [  0   0   5  98 129   1]\n",
      " [  0   0   1  14  12  14]]\n",
      "Matriz de confusão do Bagging com a(o) menor(o)  F1\n",
      "[[  0   0   1   1   0   0]\n",
      " [  0   5  21  11   0   0]\n",
      " [  0   4 245 115   3   1]\n",
      " [  0   0  78 434  32   0]\n",
      " [  0   0   5  98 128   2]\n",
      " [  0   0   1  14  13  13]]\n",
      "Matriz de confusão do Decision Tree com a(o) maior(o)  Acurácia\n",
      "[[  0   0   1   1   0   0]\n",
      " [  0   5  21  11   0   0]\n",
      " [  0   4 245 115   3   1]\n",
      " [  0   0  78 434  32   0]\n",
      " [  0   0   5  98 128   2]\n",
      " [  0   0   1  14  13  13]]\n",
      "Matriz de confusão do Decision Tree com a(o) menor(o)  Acurácia\n",
      "[[  0   0   1   1   0   0]\n",
      " [  0   7  20  10   0   0]\n",
      " [  0   4 243 120   1   0]\n",
      " [  0   0  76 436  32   0]\n",
      " [  0   0   5  97 129   2]\n",
      " [  0   0   1  15  12  13]]\n",
      "Matriz de confusão do Decision Tree com a(o) maior(o)  Precisão\n",
      "[[  0   0   1   1   0   0]\n",
      " [  0   5  21  11   0   0]\n",
      " [  0   4 245 115   3   1]\n",
      " [  0   0  78 434  32   0]\n",
      " [  0   0   5  98 128   2]\n",
      " [  0   0   1  14  13  13]]\n",
      "Matriz de confusão do Decision Tree com a(o) menor(o)  Precisão\n",
      "[[  0   0   1   1   0   0]\n",
      " [  0   7  20  10   0   0]\n",
      " [  0   4 240 122   2   0]\n",
      " [  0   0  72 440  32   0]\n",
      " [  0   0   5  96 130   2]\n",
      " [  0   0   1  13  13  14]]\n",
      "Matriz de confusão do Decision Tree com a(o) maior(o)  Recall\n",
      "[[  0   0   1   1   0   0]\n",
      " [  0   5  21  11   0   0]\n",
      " [  0   4 245 115   3   1]\n",
      " [  0   0  78 434  32   0]\n",
      " [  0   0   5  98 128   2]\n",
      " [  0   0   1  14  13  13]]\n",
      "Matriz de confusão do Decision Tree com a(o) menor(o)  Recall\n",
      "[[  0   0   1   1   0   0]\n",
      " [  0   7  20  10   0   0]\n",
      " [  0   4 243 120   1   0]\n",
      " [  0   0  76 436  32   0]\n",
      " [  0   0   5  97 129   2]\n",
      " [  0   0   1  15  12  13]]\n",
      "Matriz de confusão do Decision Tree com a(o) maior(o)  F1\n",
      "[[  0   0   1   1   0   0]\n",
      " [  0   5  21  11   0   0]\n",
      " [  0   4 245 115   3   1]\n",
      " [  0   0  78 434  32   0]\n",
      " [  0   0   5  98 128   2]\n",
      " [  0   0   1  14  13  13]]\n",
      "Matriz de confusão do Decision Tree com a(o) menor(o)  F1\n",
      "[[  0   0   1   1   0   0]\n",
      " [  0   7  20  10   0   0]\n",
      " [  0   4 243 120   1   0]\n",
      " [  0   0  76 436  32   0]\n",
      " [  0   0   5  97 129   2]\n",
      " [  0   0   1  15  12  13]]\n",
      "Matriz de confusão do Random Forest com a(o) maior(o)  Acurácia\n",
      "[[  0   0   1   1   0   0]\n",
      " [  0   6  21  10   0   0]\n",
      " [  0   4 241 122   1   0]\n",
      " [  0   0  69 447  28   0]\n",
      " [  0   0   5  97 130   1]\n",
      " [  0   0   1  14  12  14]]\n",
      "Matriz de confusão do Random Forest com a(o) menor(o)  Acurácia\n",
      "[[  0   0   1   1   0   0]\n",
      " [  0   5  21  11   0   0]\n",
      " [  0   4 245 115   3   1]\n",
      " [  0   0  78 434  32   0]\n",
      " [  0   0   5  98 128   2]\n",
      " [  0   0   1  14  13  13]]\n",
      "Matriz de confusão do Random Forest com a(o) maior(o)  Precisão\n",
      "[[  0   0   1   1   0   0]\n",
      " [  0   6  21  10   0   0]\n",
      " [  0   4 241 122   1   0]\n",
      " [  0   0  69 447  28   0]\n",
      " [  0   0   5  97 130   1]\n",
      " [  0   0   1  14  12  14]]\n",
      "Matriz de confusão do Random Forest com a(o) menor(o)  Precisão\n",
      "[[  0   0   1   1   0   0]\n",
      " [  0   5  21  11   0   0]\n",
      " [  0   4 245 115   3   1]\n",
      " [  0   0  78 434  32   0]\n",
      " [  0   0   5  98 128   2]\n",
      " [  0   0   1  14  13  13]]\n",
      "Matriz de confusão do Random Forest com a(o) maior(o)  Recall\n",
      "[[  0   0   1   1   0   0]\n",
      " [  0   6  21  10   0   0]\n",
      " [  0   4 241 122   1   0]\n",
      " [  0   0  69 447  28   0]\n",
      " [  0   0   5  97 130   1]\n",
      " [  0   0   1  14  12  14]]\n",
      "Matriz de confusão do Random Forest com a(o) menor(o)  Recall\n",
      "[[  0   0   1   1   0   0]\n",
      " [  0   5  21  11   0   0]\n",
      " [  0   4 245 115   3   1]\n",
      " [  0   0  78 434  32   0]\n",
      " [  0   0   5  98 128   2]\n",
      " [  0   0   1  14  13  13]]\n",
      "Matriz de confusão do Random Forest com a(o) maior(o)  F1\n",
      "[[  0   0   1   1   0   0]\n",
      " [  0   6  21  10   0   0]\n",
      " [  0   4 241 122   1   0]\n",
      " [  0   0  69 447  28   0]\n",
      " [  0   0   5  97 130   1]\n",
      " [  0   0   1  14  12  14]]\n",
      "Matriz de confusão do Random Forest com a(o) menor(o)  F1\n",
      "[[  0   0   1   1   0   0]\n",
      " [  0   5  21  11   0   0]\n",
      " [  0   4 245 115   3   1]\n",
      " [  0   0  78 434  32   0]\n",
      " [  0   0   5  98 128   2]\n",
      " [  0   0   1  14  13  13]]\n"
     ]
    }
   ],
   "source": [
    "labels = [\"Bagging\", \"Decision Tree\", \"Random Forest\"]\n",
    "metric = [\"Acurácia\", \"Precisão\", \"Recall\", \"F1\"]\n",
    "max_metrics = [[0.0, 0.0, 0.0, 0.0], [0.0, 0.0, 0.0, 0.0], [0.0, 0.0, 0.0, 0.0]]\n",
    "min_metrics = [[2.0, 2.0, 2.0, 2.0], [2.0, 2.0, 2.0, 2.0], [2.0, 2.0, 2.0, 2.0]]\n",
    "\n",
    "for i in range(len(labels)):\n",
    "    for l in range(0,len(rfc_list_predict)):\n",
    "        for k in range(0,4):\n",
    "            if (max_metrics[i][k] < metrics[i][k][l]):\n",
    "                max_metrics[i][k] = metrics[i][k][l]\n",
    "            if (min_metrics[i][k] > metrics[i][k][l]):\n",
    "                min_metrics[i][k] = metrics[i][k][l]\n",
    "\n",
    "for i in range(len(labels)):\n",
    "    for k in range(0,4):\n",
    "        print(\"Matriz de confusão do\", labels[i], \"com a(o) maior(o) \", metric[k])\n",
    "        rfc_conf_matrix = confusion_matrix(y_test, rfc_list_predict[metrics[i][k].index(max_metrics[i][k])])\n",
    "        print(rfc_conf_matrix)\n",
    "        print(\"Matriz de confusão do\", labels[i], \"com a(o) menor(o) \", metric[k])\n",
    "        rfc_conf_matrix = confusion_matrix(y_test, rfc_list_predict[metrics[i][k].index(min_metrics[i][k])])\n",
    "        print(rfc_conf_matrix)"
   ]
  },
  {
   "cell_type": "code",
   "execution_count": 189,
   "metadata": {},
   "outputs": [
    {
     "data": {
      "image/png": "[encoded data removed]",
      "text/plain": [
       "<Figure size 1080x1440 with 3 Axes>"
      ]
     },
     "metadata": {
      "needs_background": "light"
     },
     "output_type": "display_data"
    }
   ],
   "source": [
    "\n",
    "import matplotlib.pyplot as plt \n",
    "plt.rcParams['figure.figsize'] = [15, 20]\n",
    "\n",
    "for i in range(len(labels)):\n",
    "    plt.subplot(311+i)\n",
    "    plt.plot(np.arange(len(metrics[i][0])).tolist(), metrics[i][0], 'kD--', label = \"Acurracy Score\")\n",
    "    plt.plot(np.arange(len(metrics[i][0])).tolist(), metrics[i][1], 'bs--', label = \"Precision Score\")\n",
    "    plt.plot(np.arange(len(metrics[i][0])).tolist(), metrics[i][2], 'g^--', label = \"Recall Score\")\n",
    "    plt.plot(np.arange(len(metrics[i][0])).tolist(), metrics[i][3], 'ro--', label = \"F1 Score\")\n",
    "    plt.axis([0, len(k_range)-1, 0.4, 0.75])\n",
    "    plt.ylabel(labels[i])\n",
    "    plt.grid(\"on\")\n",
    "plt.legend()\n",
    "plt.suptitle(\"Métricas\")\n",
    "plt.show()\n"
   ]
  },
  {
   "cell_type": "markdown",
   "metadata": {},
   "source": [
    "# ------------------------Extra ---------------------------"
   ]
  },
  {
   "cell_type": "markdown",
   "metadata": {},
   "source": [
    "## GridSearchCV"
   ]
  },
  {
   "cell_type": "code",
   "execution_count": null,
   "metadata": {},
   "outputs": [
    {
     "name": "stdout",
     "output_type": "stream",
     "text": [
      "Fitting 3 folds for each of 1152 candidates, totalling 3456 fits\n"
     ]
    },
    {
     "name": "stderr",
     "output_type": "stream",
     "text": [
      "[Parallel(n_jobs=-1)]: Using backend LokyBackend with 4 concurrent workers.\n",
      "[Parallel(n_jobs=-1)]: Done  33 tasks      | elapsed:   59.0s\n"
     ]
    }
   ],
   "source": [
    "from sklearn.model_selection import GridSearchCV\n",
    "param_grid = {\n",
    "    'criterion':['gini','entropy'],\n",
    "    'bootstrap': [True],\n",
    "    'max_depth': [80,90,100,110],\n",
    "    'max_features': [2, 3, 4, 5],\n",
    "    'min_samples_leaf': [3, 5],\n",
    "    'min_samples_split': [8, 9,10],\n",
    "    'n_estimators': [100,200,300,500,800,1000]\n",
    "}\n",
    "rfc = RandomForestClassifier()\n",
    "# cv = n-cross-validation\n",
    "grid_search = GridSearchCV(estimator = rfc, param_grid = param_grid, \n",
    "                          cv = 3, n_jobs = -1, verbose = 2, refit = 'TRUE')\n",
    "grid_search.fit(X_train, y_train)\n",
    "\n",
    "print('Melhores parametros = \\n',grid_search.best_params_)\n",
    "print('\\nMelhor pontuação: \\n',grid_search.best_score_)\n"
   ]
  },
  {
   "cell_type": "code",
   "execution_count": null,
   "metadata": {},
   "outputs": [],
   "source": [
    "feature_importantes = pd.DataFrame(grid_search.best_estimator_.feature_importances_,\n",
    "                                   index = X_train.columns,\n",
    "                                    columns=['importance']).sort_values('importance', ascending=False)\n",
    "print(feature_importantes)"
   ]
  }
 ],
 "metadata": {
  "kernelspec": {
   "display_name": "Python 3",
   "language": "python",
   "name": "python3"
  },
  "language_info": {
   "codemirror_mode": {
    "name": "ipython",
    "version": 3
   },
   "file_extension": ".py",
   "mimetype": "text/x-python",
   "name": "python",
   "nbconvert_exporter": "python",
   "pygments_lexer": "ipython3",
   "version": "3.7.6"
  }
 },
 "nbformat": 4,
 "nbformat_minor": 4
}
