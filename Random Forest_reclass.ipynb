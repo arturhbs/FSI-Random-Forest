{
 "cells": [
  {
   "cell_type": "markdown",
   "metadata": {},
   "source": [
    "# Modelos Multiplos Preditivos - Cap. 8\n",
    "## 0 - Bibliotecas importadas"
   ]
  },
  {
   "cell_type": "code",
   "execution_count": 1,
   "metadata": {},
   "outputs": [],
   "source": [
    "import pandas as pd\n",
    "import numpy as np\n",
    "\n",
    "import warnings\n",
    "warnings.filterwarnings('ignore')"
   ]
  },
  {
   "cell_type": "markdown",
   "metadata": {},
   "source": [
    "## 1 - Carregando dataset 'Wine Quality'\n",
    "* Dados numéricos;\n",
    "* Não houve necessidade de fazer tratamento quanto a falta ou inconsistência nos dados;\n",
    "* 11 características e target sendo sobre a qualidade do vinho (0-qualidade ruim- até 10-Excelente qualidade-);\n",
    "* Não está balanceado (há mais vinhos normais do que excelentes ou ruins);"
   ]
  },
  {
   "cell_type": "markdown",
   "metadata": {},
   "source": [
    "### Vinho Branco"
   ]
  },
  {
   "cell_type": "code",
   "execution_count": 2,
   "metadata": {},
   "outputs": [
    {
     "name": "stdout",
     "output_type": "stream",
     "text": [
      "Quantidade amostra =  4898\n"
     ]
    },
    {
     "data": {
      "text/html": [
       "<div>\n",
       "<style scoped>\n",
       "    .dataframe tbody tr th:only-of-type {\n",
       "        vertical-align: middle;\n",
       "    }\n",
       "\n",
       "    .dataframe tbody tr th {\n",
       "        vertical-align: top;\n",
       "    }\n",
       "\n",
       "    .dataframe thead th {\n",
       "        text-align: right;\n",
       "    }\n",
       "</style>\n",
       "<table border=\"1\" class=\"dataframe\">\n",
       "  <thead>\n",
       "    <tr style=\"text-align: right;\">\n",
       "      <th></th>\n",
       "      <th>fixed acidity</th>\n",
       "      <th>volatile acidity</th>\n",
       "      <th>citric acid</th>\n",
       "      <th>residual sugar</th>\n",
       "      <th>chlorides</th>\n",
       "      <th>free sulfur dioxide</th>\n",
       "      <th>total sulfur dioxide</th>\n",
       "      <th>density</th>\n",
       "      <th>pH</th>\n",
       "      <th>sulphates</th>\n",
       "      <th>alcohol</th>\n",
       "      <th>quality</th>\n",
       "    </tr>\n",
       "  </thead>\n",
       "  <tbody>\n",
       "    <tr>\n",
       "      <th>0</th>\n",
       "      <td>7.0</td>\n",
       "      <td>0.27</td>\n",
       "      <td>0.36</td>\n",
       "      <td>20.7</td>\n",
       "      <td>0.045</td>\n",
       "      <td>45.0</td>\n",
       "      <td>170.0</td>\n",
       "      <td>1.0010</td>\n",
       "      <td>3.00</td>\n",
       "      <td>0.45</td>\n",
       "      <td>8.8</td>\n",
       "      <td>6</td>\n",
       "    </tr>\n",
       "    <tr>\n",
       "      <th>1</th>\n",
       "      <td>6.3</td>\n",
       "      <td>0.30</td>\n",
       "      <td>0.34</td>\n",
       "      <td>1.6</td>\n",
       "      <td>0.049</td>\n",
       "      <td>14.0</td>\n",
       "      <td>132.0</td>\n",
       "      <td>0.9940</td>\n",
       "      <td>3.30</td>\n",
       "      <td>0.49</td>\n",
       "      <td>9.5</td>\n",
       "      <td>6</td>\n",
       "    </tr>\n",
       "    <tr>\n",
       "      <th>2</th>\n",
       "      <td>8.1</td>\n",
       "      <td>0.28</td>\n",
       "      <td>0.40</td>\n",
       "      <td>6.9</td>\n",
       "      <td>0.050</td>\n",
       "      <td>30.0</td>\n",
       "      <td>97.0</td>\n",
       "      <td>0.9951</td>\n",
       "      <td>3.26</td>\n",
       "      <td>0.44</td>\n",
       "      <td>10.1</td>\n",
       "      <td>6</td>\n",
       "    </tr>\n",
       "    <tr>\n",
       "      <th>3</th>\n",
       "      <td>7.2</td>\n",
       "      <td>0.23</td>\n",
       "      <td>0.32</td>\n",
       "      <td>8.5</td>\n",
       "      <td>0.058</td>\n",
       "      <td>47.0</td>\n",
       "      <td>186.0</td>\n",
       "      <td>0.9956</td>\n",
       "      <td>3.19</td>\n",
       "      <td>0.40</td>\n",
       "      <td>9.9</td>\n",
       "      <td>6</td>\n",
       "    </tr>\n",
       "    <tr>\n",
       "      <th>4</th>\n",
       "      <td>7.2</td>\n",
       "      <td>0.23</td>\n",
       "      <td>0.32</td>\n",
       "      <td>8.5</td>\n",
       "      <td>0.058</td>\n",
       "      <td>47.0</td>\n",
       "      <td>186.0</td>\n",
       "      <td>0.9956</td>\n",
       "      <td>3.19</td>\n",
       "      <td>0.40</td>\n",
       "      <td>9.9</td>\n",
       "      <td>6</td>\n",
       "    </tr>\n",
       "  </tbody>\n",
       "</table>\n",
       "</div>"
      ],
      "text/plain": [
       "   fixed acidity  volatile acidity  citric acid  residual sugar  chlorides  \\\n",
       "0            7.0              0.27         0.36            20.7      0.045   \n",
       "1            6.3              0.30         0.34             1.6      0.049   \n",
       "2            8.1              0.28         0.40             6.9      0.050   \n",
       "3            7.2              0.23         0.32             8.5      0.058   \n",
       "4            7.2              0.23         0.32             8.5      0.058   \n",
       "\n",
       "   free sulfur dioxide  total sulfur dioxide  density    pH  sulphates  \\\n",
       "0                 45.0                 170.0   1.0010  3.00       0.45   \n",
       "1                 14.0                 132.0   0.9940  3.30       0.49   \n",
       "2                 30.0                  97.0   0.9951  3.26       0.44   \n",
       "3                 47.0                 186.0   0.9956  3.19       0.40   \n",
       "4                 47.0                 186.0   0.9956  3.19       0.40   \n",
       "\n",
       "   alcohol  quality  \n",
       "0      8.8        6  \n",
       "1      9.5        6  \n",
       "2     10.1        6  \n",
       "3      9.9        6  \n",
       "4      9.9        6  "
      ]
     },
     "execution_count": 2,
     "metadata": {},
     "output_type": "execute_result"
    }
   ],
   "source": [
    "df_white = pd.read_csv('./winequality-white.csv', sep = ';')\n",
    "print(\"Quantidade amostra = \",df_white['quality'].count())\n",
    "df_white.head()"
   ]
  },
  {
   "cell_type": "code",
   "execution_count": 3,
   "metadata": {},
   "outputs": [
    {
     "data": {
      "text/plain": [
       "Text(0, 0.5, 'Frequência')"
      ]
     },
     "execution_count": 3,
     "metadata": {},
     "output_type": "execute_result"
    }
   ],
   "source": [
    "ax = df_white['quality'].value_counts().sort_index().plot.bar(\n",
    "                                    y = [1,2,3,4,5,6,7,8,9,10,11],\n",
    "                                    figsize=(14,8),\n",
    "                                    title=\"Quantidade de vinhos por qualidade\"\n",
    "                                    )\n",
    "ax.set_xlabel(\"Qualidade\")\n",
    "ax.set_ylabel(\"Frequência\")"
   ]
  },
  {
   "cell_type": "markdown",
   "metadata": {},
   "source": [
    "## 2 - Pré-Processamento"
   ]
  },
  {
   "cell_type": "code",
   "execution_count": 4,
   "metadata": {},
   "outputs": [],
   "source": [
    "from sklearn import preprocessing\n",
    "from sklearn.preprocessing import StandardScaler"
   ]
  },
  {
   "cell_type": "markdown",
   "metadata": {},
   "source": [
    "### Agrupando Classes - 2 Classes"
   ]
  },
  {
   "cell_type": "code",
   "execution_count": 5,
   "metadata": {},
   "outputs": [],
   "source": [
    "classes_2 = []\n",
    "for i in df_white['quality']:\n",
    "    if i >= 0 and i <= 5:\n",
    "        classes_2.append('1')\n",
    "    elif i >= 6 and i <= 10:\n",
    "        classes_2.append('2')\n",
    "df_white['classes_2'] = classes_2"
   ]
  },
  {
   "cell_type": "markdown",
   "metadata": {},
   "source": [
    "### Agrupando Classes - 3 Classes"
   ]
  },
  {
   "cell_type": "code",
   "execution_count": 6,
   "metadata": {},
   "outputs": [
    {
     "data": {
      "text/html": [
       "<div>\n",
       "<style scoped>\n",
       "    .dataframe tbody tr th:only-of-type {\n",
       "        vertical-align: middle;\n",
       "    }\n",
       "\n",
       "    .dataframe tbody tr th {\n",
       "        vertical-align: top;\n",
       "    }\n",
       "\n",
       "    .dataframe thead th {\n",
       "        text-align: right;\n",
       "    }\n",
       "</style>\n",
       "<table border=\"1\" class=\"dataframe\">\n",
       "  <thead>\n",
       "    <tr style=\"text-align: right;\">\n",
       "      <th></th>\n",
       "      <th>fixed acidity</th>\n",
       "      <th>volatile acidity</th>\n",
       "      <th>citric acid</th>\n",
       "      <th>residual sugar</th>\n",
       "      <th>chlorides</th>\n",
       "      <th>free sulfur dioxide</th>\n",
       "      <th>total sulfur dioxide</th>\n",
       "      <th>density</th>\n",
       "      <th>pH</th>\n",
       "      <th>sulphates</th>\n",
       "      <th>alcohol</th>\n",
       "      <th>quality</th>\n",
       "      <th>classes_2</th>\n",
       "      <th>classes_3</th>\n",
       "    </tr>\n",
       "  </thead>\n",
       "  <tbody>\n",
       "    <tr>\n",
       "      <th>0</th>\n",
       "      <td>7.0</td>\n",
       "      <td>0.27</td>\n",
       "      <td>0.36</td>\n",
       "      <td>20.7</td>\n",
       "      <td>0.045</td>\n",
       "      <td>45.0</td>\n",
       "      <td>170.0</td>\n",
       "      <td>1.0010</td>\n",
       "      <td>3.00</td>\n",
       "      <td>0.45</td>\n",
       "      <td>8.8</td>\n",
       "      <td>6</td>\n",
       "      <td>2</td>\n",
       "      <td>2</td>\n",
       "    </tr>\n",
       "    <tr>\n",
       "      <th>1</th>\n",
       "      <td>6.3</td>\n",
       "      <td>0.30</td>\n",
       "      <td>0.34</td>\n",
       "      <td>1.6</td>\n",
       "      <td>0.049</td>\n",
       "      <td>14.0</td>\n",
       "      <td>132.0</td>\n",
       "      <td>0.9940</td>\n",
       "      <td>3.30</td>\n",
       "      <td>0.49</td>\n",
       "      <td>9.5</td>\n",
       "      <td>6</td>\n",
       "      <td>2</td>\n",
       "      <td>2</td>\n",
       "    </tr>\n",
       "    <tr>\n",
       "      <th>2</th>\n",
       "      <td>8.1</td>\n",
       "      <td>0.28</td>\n",
       "      <td>0.40</td>\n",
       "      <td>6.9</td>\n",
       "      <td>0.050</td>\n",
       "      <td>30.0</td>\n",
       "      <td>97.0</td>\n",
       "      <td>0.9951</td>\n",
       "      <td>3.26</td>\n",
       "      <td>0.44</td>\n",
       "      <td>10.1</td>\n",
       "      <td>6</td>\n",
       "      <td>2</td>\n",
       "      <td>2</td>\n",
       "    </tr>\n",
       "    <tr>\n",
       "      <th>3</th>\n",
       "      <td>7.2</td>\n",
       "      <td>0.23</td>\n",
       "      <td>0.32</td>\n",
       "      <td>8.5</td>\n",
       "      <td>0.058</td>\n",
       "      <td>47.0</td>\n",
       "      <td>186.0</td>\n",
       "      <td>0.9956</td>\n",
       "      <td>3.19</td>\n",
       "      <td>0.40</td>\n",
       "      <td>9.9</td>\n",
       "      <td>6</td>\n",
       "      <td>2</td>\n",
       "      <td>2</td>\n",
       "    </tr>\n",
       "    <tr>\n",
       "      <th>4</th>\n",
       "      <td>7.2</td>\n",
       "      <td>0.23</td>\n",
       "      <td>0.32</td>\n",
       "      <td>8.5</td>\n",
       "      <td>0.058</td>\n",
       "      <td>47.0</td>\n",
       "      <td>186.0</td>\n",
       "      <td>0.9956</td>\n",
       "      <td>3.19</td>\n",
       "      <td>0.40</td>\n",
       "      <td>9.9</td>\n",
       "      <td>6</td>\n",
       "      <td>2</td>\n",
       "      <td>2</td>\n",
       "    </tr>\n",
       "  </tbody>\n",
       "</table>\n",
       "</div>"
      ],
      "text/plain": [
       "   fixed acidity  volatile acidity  citric acid  residual sugar  chlorides  \\\n",
       "0            7.0              0.27         0.36            20.7      0.045   \n",
       "1            6.3              0.30         0.34             1.6      0.049   \n",
       "2            8.1              0.28         0.40             6.9      0.050   \n",
       "3            7.2              0.23         0.32             8.5      0.058   \n",
       "4            7.2              0.23         0.32             8.5      0.058   \n",
       "\n",
       "   free sulfur dioxide  total sulfur dioxide  density    pH  sulphates  \\\n",
       "0                 45.0                 170.0   1.0010  3.00       0.45   \n",
       "1                 14.0                 132.0   0.9940  3.30       0.49   \n",
       "2                 30.0                  97.0   0.9951  3.26       0.44   \n",
       "3                 47.0                 186.0   0.9956  3.19       0.40   \n",
       "4                 47.0                 186.0   0.9956  3.19       0.40   \n",
       "\n",
       "   alcohol  quality classes_2 classes_3  \n",
       "0      8.8        6         2         2  \n",
       "1      9.5        6         2         2  \n",
       "2     10.1        6         2         2  \n",
       "3      9.9        6         2         2  \n",
       "4      9.9        6         2         2  "
      ]
     },
     "execution_count": 6,
     "metadata": {},
     "output_type": "execute_result"
    }
   ],
   "source": [
    "classes_3 = []\n",
    "for i in df_white['quality']:\n",
    "    if i >= 0 and i <= 3:\n",
    "        classes_3.append('1')\n",
    "    elif i >= 4 and i <= 6:\n",
    "        classes_3.append('2')\n",
    "    elif i >= 7 and i <= 10:\n",
    "        classes_3.append('3')\n",
    "df_white['classes_3'] = classes_3  \n",
    "df_white.head()"
   ]
  },
  {
   "cell_type": "markdown",
   "metadata": {},
   "source": [
    "### StandardScale\n",
    "> class sklearn.preprocessing.StandardScaler(**copy**=True, **with_mean**=True, **with_std**=True)"
   ]
  },
  {
   "cell_type": "code",
   "execution_count": 22,
   "metadata": {},
   "outputs": [
    {
     "data": {
      "text/plain": [
       "array([[ 1.72096961e-01, -8.17699008e-02,  2.13280202e-01, ...,\n",
       "        -1.24692128e+00, -3.49184257e-01, -1.39315246e+00],\n",
       "       [-6.57501128e-01,  2.15895632e-01,  4.80011213e-02, ...,\n",
       "         7.40028640e-01,  1.34184656e-03, -8.24275678e-01],\n",
       "       [ 1.47575110e+00,  1.74519434e-02,  5.43838363e-01, ...,\n",
       "         4.75101984e-01, -4.36815783e-01, -3.36667007e-01],\n",
       "       ...,\n",
       "       [-4.20473102e-01, -3.79435433e-01, -1.19159198e+00, ...,\n",
       "        -1.31315295e+00, -2.61552731e-01, -9.05543789e-01],\n",
       "       [-1.60561323e+00,  1.16673788e-01, -2.82557040e-01, ...,\n",
       "         1.00495530e+00, -9.62604939e-01,  1.85757201e+00],\n",
       "       [-1.01304317e+00, -6.77100966e-01,  3.78559282e-01, ...,\n",
       "         4.75101984e-01, -1.48839409e+00,  1.04489089e+00]])"
      ]
     },
     "execution_count": 22,
     "metadata": {},
     "output_type": "execute_result"
    }
   ],
   "source": [
    "X = df_white.iloc[:,:11]\n",
    "ss = StandardScaler()\n",
    "X2 = ss.fit_transform(X)\n",
    "X2"
   ]
  },
  {
   "cell_type": "markdown",
   "metadata": {},
   "source": [
    "## 3 - Treinamento"
   ]
  },
  {
   "cell_type": "code",
   "execution_count": 8,
   "metadata": {},
   "outputs": [],
   "source": [
    "from sklearn.model_selection import train_test_split"
   ]
  },
  {
   "cell_type": "code",
   "execution_count": 9,
   "metadata": {},
   "outputs": [],
   "source": [
    "# Normalmente, em python, o X tem relação com o dataframe gerado e o 'y' com os valores em target\n",
    "X = df_white.iloc[:,:11]\n",
    "y = df_white['quality']\n",
    "\n",
    "X_train, X_test, y_train, y_test = train_test_split(X, y, train_size = 0.75, random_state=1)"
   ]
  },
  {
   "cell_type": "markdown",
   "metadata": {},
   "source": [
    "### Bagging\n",
    ">class sklearn.ensemble.BaggingClassifier(**base_estimator**=None, **n_estimators**=10, **max_samples**=1.0, **max_features**=1.0, **bootstrap**=True, **bootstrap_features**=False, **oob_score**=False, **warm_start**=False, **n_jobs**=None, **random_state**=None, **verbose**=0)"
   ]
  },
  {
   "cell_type": "code",
   "execution_count": 10,
   "metadata": {},
   "outputs": [],
   "source": [
    "from sklearn.ensemble import BaggingClassifier\n",
    "\n",
    "bc = BaggingClassifier()\n",
    "bc.fit(X_train,y_train)\n",
    "bc_predict = bc.predict(X_test)"
   ]
  },
  {
   "cell_type": "markdown",
   "metadata": {},
   "source": [
    "### Decision Tree\n",
    "> class sklearn.tree.DecisionTreeClassifier(**criterion**='gini', **splitter**='best', **max_depth**=None, **min_samples_split**=2, **min_samples_leaf**=1, **min_weight_fraction_leaf**=0.0, **max_features**=None, **random_state**=None, **max_leaf_nodes**=None, **min_impurity_decrease**=0.0, **min_impurity_split**=None, **class_weight**=None, **presort**='deprecated', **ccp_alpha**=0.0)"
   ]
  },
  {
   "cell_type": "code",
   "execution_count": 11,
   "metadata": {},
   "outputs": [],
   "source": [
    "from sklearn.tree import DecisionTreeClassifier\n",
    "\n",
    "dtc = DecisionTreeClassifier()\n",
    "dtc.fit(X_train,y_train)\n",
    "dtc_predict = dtc.predict(X_test)"
   ]
  },
  {
   "cell_type": "markdown",
   "metadata": {},
   "source": [
    "### Random Forest\n",
    "> class sklearn.ensemble.RandomForestClassifier(**n_estimators**=100, **criterion**='gini', **max_depth**=None, **min_samples_split**=2, **min_samples_leaf**=1, **min_weight_fraction_leaf**=0.0, **max_features**='auto', **max_leaf_nodes**=None, **min_impurity_decrease**=0.0, **min_impurity_split**=None, **bootstrap**=True, **oob_score**=False, **n_jobs**=None, **random_state**=None, **verbose**=0, **warm_start**=False, **class_weight**=None, **ccp_alpha**=0.0, **max_samples**=None)\n"
   ]
  },
  {
   "cell_type": "code",
   "execution_count": 12,
   "metadata": {},
   "outputs": [],
   "source": [
    "from sklearn.ensemble import RandomForestClassifier\n",
    "\n",
    "rfc = RandomForestClassifier(n_estimators= 1000,\n",
    "                              max_features= 'auto',     \n",
    "                              bootstrap = 'TRUE',\n",
    "                              oob_score = 'TRUE',\n",
    "                              n_jobs = -1)\n",
    "rfc.fit(X_train,y_train)\n",
    "rfc_predict = rfc.predict(X_test)"
   ]
  },
  {
   "cell_type": "code",
   "execution_count": 13,
   "metadata": {},
   "outputs": [
    {
     "name": "stdout",
     "output_type": "stream",
     "text": [
      "                      importance\n",
      "alcohol                 0.114995\n",
      "density                 0.104174\n",
      "volatile acidity        0.102449\n",
      "free sulfur dioxide     0.093194\n",
      "total sulfur dioxide    0.090330\n",
      "pH                      0.087341\n",
      "residual sugar          0.086188\n",
      "chlorides               0.084432\n",
      "sulphates               0.080234\n",
      "citric acid             0.080040\n",
      "fixed acidity           0.076622\n"
     ]
    }
   ],
   "source": [
    "feature_importantes = pd.DataFrame(rfc.feature_importances_,\n",
    "                                   index = X_train.columns,\n",
    "                                    columns=['importance']).sort_values('importance', ascending=False)\n",
    "print(feature_importantes)"
   ]
  },
  {
   "cell_type": "markdown",
   "metadata": {},
   "source": [
    "## 4 - Avaliação"
   ]
  },
  {
   "cell_type": "code",
   "execution_count": 14,
   "metadata": {},
   "outputs": [],
   "source": [
    "from sklearn.metrics import accuracy_score, confusion_matrix, precision_score, recall_score,f1_score"
   ]
  },
  {
   "cell_type": "markdown",
   "metadata": {},
   "source": [
    "### Bagging"
   ]
  },
  {
   "cell_type": "code",
   "execution_count": 15,
   "metadata": {
    "scrolled": true
   },
   "outputs": [
    {
     "name": "stdout",
     "output_type": "stream",
     "text": [
      "[[  0   0   1   1   0   0]\n",
      " [  0   6  20  10   1   0]\n",
      " [  0   9 246 105   8   0]\n",
      " [  0   2  90 413  38   1]\n",
      " [  0   0  13  96 117   7]\n",
      " [  0   0   1  16  11  13]]\n",
      "64.89795918367346\n"
     ]
    }
   ],
   "source": [
    "bc_conf_matrix = confusion_matrix(y_test, bc_predict)\n",
    "bc_acc_score = accuracy_score(y_test, bc_predict)\n",
    "print(bc_conf_matrix)\n",
    "print(bc_acc_score*100)"
   ]
  },
  {
   "cell_type": "markdown",
   "metadata": {},
   "source": [
    "### Decision Tree"
   ]
  },
  {
   "cell_type": "code",
   "execution_count": 16,
   "metadata": {},
   "outputs": [
    {
     "name": "stdout",
     "output_type": "stream",
     "text": [
      "[[  0   0   1   1   0   0   0]\n",
      " [  2   8  16   6   5   0   0]\n",
      " [  0  16 212 116  22   2   0]\n",
      " [  1   7 101 364  61  10   0]\n",
      " [  0   1  17  76 123  14   2]\n",
      " [  0   1   0  13  12  15   0]\n",
      " [  0   0   0   0   0   0   0]]\n",
      "58.93877551020408\n"
     ]
    }
   ],
   "source": [
    "dtc_conf_matrix = confusion_matrix(y_test, dtc_predict)\n",
    "dtc_acc_score = accuracy_score(y_test, dtc_predict)\n",
    "print(dtc_conf_matrix)\n",
    "print(dtc_acc_score*100)"
   ]
  },
  {
   "cell_type": "markdown",
   "metadata": {},
   "source": [
    "### Random Forest"
   ]
  },
  {
   "cell_type": "markdown",
   "metadata": {},
   "source": [
    "#### Matriz de Confusão"
   ]
  },
  {
   "cell_type": "code",
   "execution_count": 17,
   "metadata": {},
   "outputs": [
    {
     "data": {
      "text/plain": [
       "array([[  0,   0,   1,   1,   0,   0],\n",
       "       [  0,   7,  20,  10,   0,   0],\n",
       "       [  0,   4, 237, 124,   3,   0],\n",
       "       [  0,   0,  72, 445,  27,   0],\n",
       "       [  0,   0,   5,  98, 129,   1],\n",
       "       [  0,   0,   1,  14,  12,  14]])"
      ]
     },
     "execution_count": 17,
     "metadata": {},
     "output_type": "execute_result"
    }
   ],
   "source": [
    "rfc_conf_matrix = confusion_matrix(y_test, rfc_predict)\n",
    "rfc_conf_matrix"
   ]
  },
  {
   "cell_type": "markdown",
   "metadata": {},
   "source": [
    "#### Acurácia"
   ]
  },
  {
   "cell_type": "code",
   "execution_count": 18,
   "metadata": {},
   "outputs": [
    {
     "name": "stdout",
     "output_type": "stream",
     "text": [
      "Acurácia = 67.91836734693878\n"
     ]
    }
   ],
   "source": [
    "rfc_acc_score = accuracy_score(y_test, rfc_predict)\n",
    "print('Acurácia =',rfc_acc_score*100)\n"
   ]
  },
  {
   "cell_type": "markdown",
   "metadata": {},
   "source": [
    "#### Revocação"
   ]
  },
  {
   "cell_type": "markdown",
   "metadata": {},
   "source": [
    "### Precisão"
   ]
  },
  {
   "cell_type": "markdown",
   "metadata": {},
   "source": [
    "#### F1-Score"
   ]
  },
  {
   "cell_type": "markdown",
   "metadata": {},
   "source": [
    "# Reduzindo o número de classes"
   ]
  },
  {
   "cell_type": "code",
   "execution_count": 19,
   "metadata": {},
   "outputs": [],
   "source": [
    "#novos targets\n",
    "\n",
    "y2= df_white['classes_2']\n",
    "y3= df_white['classes_3']\n",
    "X_train, X_test, y2_train, y2_test = train_test_split(X, y2, train_size = 0.75, random_state=1)\n",
    "X_train, X_test, y3_train, y3_test = train_test_split(X, y3, train_size = 0.75, random_state=1)\n",
    "\n",
    "#bagging\n",
    "\n",
    "bc2 = BaggingClassifier()\n",
    "bc2.fit(X_train,y2_train)\n",
    "bc2_predict = bc2.predict(X_test)\n",
    "\n",
    "bc3 = BaggingClassifier()\n",
    "bc3.fit(X_train,y3_train)\n",
    "bc3_predict = bc3.predict(X_test)\n",
    "\n",
    "\n",
    "#decision tree\n",
    "dtc2 = DecisionTreeClassifier()\n",
    "dtc2.fit(X_train,y2_train)\n",
    "dtc2_predict = dtc2.predict(X_test)\n",
    "\n",
    "dtc3 = DecisionTreeClassifier()\n",
    "dtc3.fit(X_train,y3_train)\n",
    "dtc3_predict = dtc3.predict(X_test)\n",
    "\n",
    "#random forest\n",
    "rfc2 = RandomForestClassifier(n_estimators= 1000,\n",
    "                              max_features= 'auto',     \n",
    "                              bootstrap = 'TRUE',\n",
    "                              oob_score = 'TRUE',\n",
    "                              n_jobs = -1)\n",
    "rfc2.fit(X_train,y2_train)\n",
    "rfc2_predict = rfc2.predict(X_test)\n",
    "\n",
    "rfc3 = RandomForestClassifier(n_estimators= 1000,\n",
    "                              max_features= 'auto',     \n",
    "                              bootstrap = 'TRUE',\n",
    "                              oob_score = 'TRUE',\n",
    "                              n_jobs = -1)\n",
    "rfc3.fit(X_train,y3_train)\n",
    "rfc3_predict = rfc3.predict(X_test)"
   ]
  },
  {
   "cell_type": "code",
   "execution_count": 20,
   "metadata": {
    "scrolled": true
   },
   "outputs": [
    {
     "data": {
      "text/html": [
       "<div>\n",
       "<style scoped>\n",
       "    .dataframe tbody tr th:only-of-type {\n",
       "        vertical-align: middle;\n",
       "    }\n",
       "\n",
       "    .dataframe tbody tr th {\n",
       "        vertical-align: top;\n",
       "    }\n",
       "\n",
       "    .dataframe thead th {\n",
       "        text-align: right;\n",
       "    }\n",
       "</style>\n",
       "<table border=\"1\" class=\"dataframe\">\n",
       "  <thead>\n",
       "    <tr style=\"text-align: right;\">\n",
       "      <th></th>\n",
       "      <th>Bagging</th>\n",
       "      <th>Decision Tree</th>\n",
       "      <th>Random Forest</th>\n",
       "    </tr>\n",
       "  </thead>\n",
       "  <tbody>\n",
       "    <tr>\n",
       "      <th>Original</th>\n",
       "      <td>64.90</td>\n",
       "      <td>58.94</td>\n",
       "      <td>67.92</td>\n",
       "    </tr>\n",
       "    <tr>\n",
       "      <th>Duas Classes</th>\n",
       "      <td>82.20</td>\n",
       "      <td>77.39</td>\n",
       "      <td>83.02</td>\n",
       "    </tr>\n",
       "    <tr>\n",
       "      <th>Três Classes</th>\n",
       "      <td>84.73</td>\n",
       "      <td>82.20</td>\n",
       "      <td>87.84</td>\n",
       "    </tr>\n",
       "  </tbody>\n",
       "</table>\n",
       "</div>"
      ],
      "text/plain": [
       "              Bagging  Decision Tree  Random Forest\n",
       "Original        64.90          58.94          67.92\n",
       "Duas Classes    82.20          77.39          83.02\n",
       "Três Classes    84.73          82.20          87.84"
      ]
     },
     "execution_count": 20,
     "metadata": {},
     "output_type": "execute_result"
    }
   ],
   "source": [
    "br = accuracy_score(y_test, bc_predict) * 100\n",
    "br2 = accuracy_score(y2_test, bc2_predict) * 100\n",
    "br3 = accuracy_score(y3_test, bc3_predict) * 100\n",
    "\n",
    "\n",
    "dtr = accuracy_score(y_test, dtc_predict) * 100\n",
    "dtr2 = accuracy_score(y2_test, dtc2_predict) * 100\n",
    "dtr3 = accuracy_score(y3_test, dtc3_predict) * 100\n",
    "\n",
    "rfr = accuracy_score(y_test, rfc_predict) * 100\n",
    "rfr2 = accuracy_score(y2_test, rfc2_predict) * 100\n",
    "rfr3 = accuracy_score(y3_test, rfc3_predict) * 100\n",
    "\n",
    "datavis = {'Bagging': [br,br2,br3], 'Decision Tree':[dtr,dtr2,dtr3], 'Random Forest': [rfr,rfr2,rfr3]}\n",
    "\n",
    "dataprint = pd.DataFrame(data = datavis)\n",
    "pd.set_option(\"display.precision\", 2)\n",
    "dataprint.rename(index={0:'Original', 1: 'Duas Classes', 2: 'Três Classes'}, inplace= True)\n",
    "\n",
    "dataprint"
   ]
  },
  {
   "cell_type": "markdown",
   "metadata": {},
   "source": [
    "## Com Standard Scale"
   ]
  },
  {
   "cell_type": "code",
   "execution_count": 23,
   "metadata": {},
   "outputs": [],
   "source": [
    "#novos targets\n",
    "\n",
    "y2= df_white['classes_2']\n",
    "y3= df_white['classes_3']\n",
    "X_train, X_test, y2_train, y2_test = train_test_split(X2, y2, train_size = 0.75, random_state=1)\n",
    "X_train, X_test, y3_train, y3_test = train_test_split(X2, y3, train_size = 0.75, random_state=1)\n",
    "\n",
    "#bagging\n",
    "\n",
    "bc2 = BaggingClassifier()\n",
    "bc2.fit(X_train,y2_train)\n",
    "bc2_predict = bc2.predict(X_test)\n",
    "\n",
    "bc3 = BaggingClassifier()\n",
    "bc3.fit(X_train,y3_train)\n",
    "bc3_predict = bc3.predict(X_test)\n",
    "\n",
    "\n",
    "#decision tree\n",
    "dtc2 = DecisionTreeClassifier()\n",
    "dtc2.fit(X_train,y2_train)\n",
    "dtc2_predict = dtc2.predict(X_test)\n",
    "\n",
    "dtc3 = DecisionTreeClassifier()\n",
    "dtc3.fit(X_train,y3_train)\n",
    "dtc3_predict = dtc3.predict(X_test)\n",
    "\n",
    "#random forest\n",
    "rfc2 = RandomForestClassifier(n_estimators= 1000,\n",
    "                              max_features= 'auto',     \n",
    "                              bootstrap = 'TRUE',\n",
    "                              oob_score = 'TRUE',\n",
    "                              n_jobs = -1)\n",
    "rfc2.fit(X_train,y2_train)\n",
    "rfc2_predict = rfc2.predict(X_test)\n",
    "\n",
    "rfc3 = RandomForestClassifier(n_estimators= 1000,\n",
    "                              max_features= 'auto',     \n",
    "                              bootstrap = 'TRUE',\n",
    "                              oob_score = 'TRUE',\n",
    "                              n_jobs = -1)\n",
    "rfc3.fit(X_train,y3_train)\n",
    "rfc3_predict = rfc3.predict(X_test)"
   ]
  },
  {
   "cell_type": "code",
   "execution_count": 24,
   "metadata": {},
   "outputs": [
    {
     "data": {
      "text/html": [
       "<div>\n",
       "<style scoped>\n",
       "    .dataframe tbody tr th:only-of-type {\n",
       "        vertical-align: middle;\n",
       "    }\n",
       "\n",
       "    .dataframe tbody tr th {\n",
       "        vertical-align: top;\n",
       "    }\n",
       "\n",
       "    .dataframe thead th {\n",
       "        text-align: right;\n",
       "    }\n",
       "</style>\n",
       "<table border=\"1\" class=\"dataframe\">\n",
       "  <thead>\n",
       "    <tr style=\"text-align: right;\">\n",
       "      <th></th>\n",
       "      <th>Bagging</th>\n",
       "      <th>Decision Tree</th>\n",
       "      <th>Random Forest</th>\n",
       "    </tr>\n",
       "  </thead>\n",
       "  <tbody>\n",
       "    <tr>\n",
       "      <th>Original</th>\n",
       "      <td>64.90</td>\n",
       "      <td>58.94</td>\n",
       "      <td>67.92</td>\n",
       "    </tr>\n",
       "    <tr>\n",
       "      <th>Duas Classes</th>\n",
       "      <td>80.49</td>\n",
       "      <td>78.69</td>\n",
       "      <td>82.94</td>\n",
       "    </tr>\n",
       "    <tr>\n",
       "      <th>Três Classes</th>\n",
       "      <td>85.88</td>\n",
       "      <td>83.10</td>\n",
       "      <td>88.00</td>\n",
       "    </tr>\n",
       "  </tbody>\n",
       "</table>\n",
       "</div>"
      ],
      "text/plain": [
       "              Bagging  Decision Tree  Random Forest\n",
       "Original        64.90          58.94          67.92\n",
       "Duas Classes    80.49          78.69          82.94\n",
       "Três Classes    85.88          83.10          88.00"
      ]
     },
     "execution_count": 24,
     "metadata": {},
     "output_type": "execute_result"
    }
   ],
   "source": [
    "br = accuracy_score(y_test, bc_predict) * 100\n",
    "br2 = accuracy_score(y2_test, bc2_predict) * 100\n",
    "br3 = accuracy_score(y3_test, bc3_predict) * 100\n",
    "\n",
    "\n",
    "dtr = accuracy_score(y_test, dtc_predict) * 100\n",
    "dtr2 = accuracy_score(y2_test, dtc2_predict) * 100\n",
    "dtr3 = accuracy_score(y3_test, dtc3_predict) * 100\n",
    "\n",
    "rfr = accuracy_score(y_test, rfc_predict) * 100\n",
    "rfr2 = accuracy_score(y2_test, rfc2_predict) * 100\n",
    "rfr3 = accuracy_score(y3_test, rfc3_predict) * 100\n",
    "\n",
    "datavis = {'Bagging': [br,br2,br3], 'Decision Tree':[dtr,dtr2,dtr3], 'Random Forest': [rfr,rfr2,rfr3]}\n",
    "\n",
    "dataprint = pd.DataFrame(data = datavis)\n",
    "pd.set_option(\"display.precision\", 2)\n",
    "dataprint.rename(index={0:'Original', 1: 'Duas Classes', 2: 'Três Classes'}, inplace= True)\n",
    "\n",
    "dataprint"
   ]
  }
 ],
 "metadata": {
  "kernelspec": {
   "display_name": "Python 3",
   "language": "python",
   "name": "python3"
  },
  "language_info": {
   "codemirror_mode": {
    "name": "ipython",
    "version": 3
   },
   "file_extension": ".py",
   "mimetype": "text/x-python",
   "name": "python",
   "nbconvert_exporter": "python",
   "pygments_lexer": "ipython3",
   "version": "3.7.3"
  }
 },
 "nbformat": 4,
 "nbformat_minor": 4
}
